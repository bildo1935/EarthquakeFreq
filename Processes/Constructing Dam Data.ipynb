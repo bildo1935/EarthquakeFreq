{
 "cells": [
  {
   "cell_type": "code",
   "execution_count": 1,
   "id": "81a1dedf",
   "metadata": {},
   "outputs": [],
   "source": [
    "import pandas as pd\n",
    "import numpy as np"
   ]
  },
  {
   "cell_type": "code",
   "execution_count": 2,
   "id": "a37d7e57",
   "metadata": {},
   "outputs": [],
   "source": [
    "df = pd.read_csv(\"Condensed GRAND v1.3.csv\")"
   ]
  },
  {
   "cell_type": "code",
   "execution_count": 3,
   "id": "d75bdd82",
   "metadata": {},
   "outputs": [],
   "source": [
    "year = list(df['Year of Completion'])\n",
    "yearset = list(set(year))\n",
    "yearcount = []\n",
    "yearscounted = []\n",
    "for i in year:\n",
    "    if i not in yearscounted:\n",
    "        yearcount.append(year.count(i))\n",
    "        yearscounted.append(i)\n",
    "    "
   ]
  },
  {
   "cell_type": "code",
   "execution_count": 4,
   "id": "fff6ed5c",
   "metadata": {},
   "outputs": [],
   "source": [
    "cumyearcount=[i for i in range(len(yearcount))]\n",
    "for i in range(len(yearcount)):\n",
    "    if i == 0:\n",
    "        cumyearcount[i] = yearcount[i]\n",
    "    else:\n",
    "        cumyearcount[i] = cumyearcount[i-1] + yearcount[i]"
   ]
  },
  {
   "cell_type": "code",
   "execution_count": 11,
   "id": "4865d216",
   "metadata": {},
   "outputs": [],
   "source": [
    "count=0\n",
    "for i in range(0,2018):\n",
    "    if i not in yearset:\n",
    "        yearset.append(i)\n",
    "        count+=1\n",
    "\n",
    "for k in range(count):\n",
    "    cumyearcount.append(np.NaN)"
   ]
  },
  {
   "cell_type": "code",
   "execution_count": 18,
   "id": "8927fe44",
   "metadata": {},
   "outputs": [],
   "source": [
    "df2 = pd.DataFrame(list(zip(yearset, cumyearcount)), columns=['Year', 'Cumulative Number of Constructed Dams'])\n",
    "df2.sort_values(by=['Year'], inplace=True)\n",
    "df2.fillna(method='ffill', inplace=True)"
   ]
  },
  {
   "cell_type": "code",
   "execution_count": 23,
   "id": "aa831d7c",
   "metadata": {},
   "outputs": [],
   "source": [
    "df2.to_csv('Cumulative Number of Dams Built Yearly (0-2017).csv')"
   ]
  }
 ],
 "metadata": {
  "kernelspec": {
   "display_name": "Python 3 (ipykernel)",
   "language": "python",
   "name": "python3"
  },
  "language_info": {
   "codemirror_mode": {
    "name": "ipython",
    "version": 3
   },
   "file_extension": ".py",
   "mimetype": "text/x-python",
   "name": "python",
   "nbconvert_exporter": "python",
   "pygments_lexer": "ipython3",
   "version": "3.9.12"
  }
 },
 "nbformat": 4,
 "nbformat_minor": 5
}
