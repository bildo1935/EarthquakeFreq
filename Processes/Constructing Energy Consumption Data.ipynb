{
 "cells": [
  {
   "cell_type": "code",
   "execution_count": 31,
   "id": "eed57c1b",
   "metadata": {},
   "outputs": [],
   "source": [
    "import pandas as pd\n",
    "import numpy as np"
   ]
  },
  {
   "cell_type": "code",
   "execution_count": 32,
   "id": "ad71673c",
   "metadata": {},
   "outputs": [],
   "source": [
    "df = pd.read_csv(\"Modified Annual Energy Consumption Data.csv\")\n",
    "year = list(df['Year'])\n",
    "consumption = list(df['Energy Consumption (exajoules)'])\n",
    "addedyears = 0\n",
    "for i in range(1700, 2022, 1):\n",
    "    if i not in year:\n",
    "        year.append(i)\n",
    "        addedyears += 1\n",
    "for i in range(addedyears):\n",
    "    consumption.append(np.NaN) "
   ]
  },
  {
   "cell_type": "code",
   "execution_count": 36,
   "id": "58638001",
   "metadata": {},
   "outputs": [],
   "source": [
    "df2 = pd.DataFrame(list(zip(year, consumption)), columns=['Year', 'Energy Consumption (exajoules)'])\n",
    "df2.sort_values(by=['Year'], inplace=True)\n",
    "df2.interpolate(method='linear', inplace=True)"
   ]
  },
  {
   "cell_type": "code",
   "execution_count": 37,
   "id": "0e182b22",
   "metadata": {},
   "outputs": [],
   "source": [
    "df2.to_csv(\"Yearly Global Energy Consumption (1700-2021).csv\")"
   ]
  }
 ],
 "metadata": {
  "kernelspec": {
   "display_name": "Python 3 (ipykernel)",
   "language": "python",
   "name": "python3"
  },
  "language_info": {
   "codemirror_mode": {
    "name": "ipython",
    "version": 3
   },
   "file_extension": ".py",
   "mimetype": "text/x-python",
   "name": "python",
   "nbconvert_exporter": "python",
   "pygments_lexer": "ipython3",
   "version": "3.9.12"
  }
 },
 "nbformat": 4,
 "nbformat_minor": 5
}
