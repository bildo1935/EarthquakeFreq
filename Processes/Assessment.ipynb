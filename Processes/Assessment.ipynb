{
 "cells": [
  {
   "cell_type": "code",
   "execution_count": 1,
   "id": "a12b0037-2b10-45cf-9232-f32375cffb93",
   "metadata": {},
   "outputs": [],
   "source": [
    "import torch\n",
    "import torch.nn as nn\n",
    "import torchmetrics\n",
    "from torch.utils.data import Dataset,  DataLoader\n",
    "import numpy as np\n",
    "import matplotlib.pyplot as plt\n",
    "import pandas\n",
    "import os\n",
    "os.environ[\"KMP_DUPLICATE_LIB_OK\"]=\"TRUE\""
   ]
  },
  {
   "cell_type": "code",
   "execution_count": 2,
   "id": "eaa1d81a-1b22-4c94-8477-d20e810cc94b",
   "metadata": {},
   "outputs": [],
   "source": [
    "test_labels = np.load(\"Test(Targets).npy\")\n",
    "test_labels = np.squeeze(test_labels, axis=2)\n",
    "test_inputs = np.load(\"Test(Features).npy\")\n",
    "test_inputs = np.squeeze(test_inputs, axis=2)\n",
    "val_features = np.load(\"Val(Features).npy\")\n",
    "val_features = np.squeeze(val_features, axis=2)\n",
    "val_targets = np.load(\"Val(Targets).npy\")\n",
    "val_targets = np.squeeze(val_targets, axis=2)"
   ]
  },
  {
   "cell_type": "code",
   "execution_count": 3,
   "id": "071dae21-bb52-4985-8eb4-21f03274cb5e",
   "metadata": {},
   "outputs": [
    {
     "name": "stdout",
     "output_type": "stream",
     "text": [
      "18\n",
      "50\n"
     ]
    }
   ],
   "source": [
    "if len(test_labels)==len(test_inputs):\n",
    "    print(len(test_labels))\n",
    "if len(val_features)==len(val_targets):\n",
    "    print(len(val_features))"
   ]
  },
  {
   "cell_type": "code",
   "execution_count": 4,
   "id": "8fd9d599-ffcb-4a1a-97ca-214880f1034a",
   "metadata": {},
   "outputs": [],
   "source": [
    "class dataset(Dataset):\n",
    "    def __init__(self, inputs, labels):\n",
    "        self.inputs = torch.Tensor(inputs)\n",
    "        self.labels = torch.Tensor(labels)\n",
    "    def __getitem__(self, idx):\n",
    "        inp = self.inputs[idx]\n",
    "        label = self.labels[idx]\n",
    "        return inp, label\n",
    "    def __len__(self):\n",
    "        length = len(self.labels)\n",
    "        return length"
   ]
  },
  {
   "cell_type": "code",
   "execution_count": 5,
   "id": "a65b48d6-fcde-48a6-a2b2-d56b70006b8f",
   "metadata": {},
   "outputs": [],
   "source": [
    "test_dataloader = DataLoader(dataset(test_inputs, test_labels),\n",
    "                             batch_size=18, \n",
    "                             shuffle=False\n",
    "                            )\n",
    "val_dataloader = DataLoader(dataset(val_features, val_targets),\n",
    "                            batch_size=50,\n",
    "                            shuffle=False\n",
    "                           )"
   ]
  },
  {
   "cell_type": "code",
   "execution_count": 6,
   "id": "bab63a6b-9927-4c5d-8477-9e8acaae7161",
   "metadata": {},
   "outputs": [],
   "source": [
    "class LSTM(nn.Module):\n",
    "    def __init__(self, n_layers, hidden_dim, l1, l2):\n",
    "        super().__init__()\n",
    "        self.n_layers = n_layers\n",
    "        self.hidden_dim = hidden_dim\n",
    "        self.l1 = l1\n",
    "        self.l2 = l2\n",
    "        self.fc1 = nn.Linear(self.hidden_dim, self.l1)\n",
    "        self.fc2 = nn.Linear(self.l1, self.l2)\n",
    "        self.fc3 = nn.Linear(self.l2, 1)\n",
    "        self.recurrent_layers = nn.LSTM(hidden_size=self.hidden_dim,\n",
    "                                        num_layers=self.n_layers,\n",
    "                                        batch_first=True,\n",
    "                                        input_size=5\n",
    "                                        )\n",
    "                                        \n",
    "    def forward(self, inp):\n",
    "        LSTMpred = self.recurrent_layers(inp)\n",
    "        output, hidden_cell_states = LSTMpred\n",
    "        pred = self.fc1(output)\n",
    "        pred = self.fc2(nn.functional.softmax(pred))\n",
    "        pred = self.fc3(nn.functional.softmax(pred))\n",
    "        return pred\n",
    "    "
   ]
  },
  {
   "cell_type": "code",
   "execution_count": 7,
   "id": "2b241969-01db-4805-801d-edb26d3b9c40",
   "metadata": {},
   "outputs": [],
   "source": [
    "def test(dataloader):\n",
    "    metric = torchmetrics.MeanAbsolutePercentageError()\n",
    "    for inputs, labels in dataloader:\n",
    "        output = model.forward(inputs)\n",
    "        error = metric(output, labels)\n",
    "    print(f\"MAPE:{error}\")\n",
    "    if error >= 0.25:\n",
    "        print(\"Unexpected and cannot be explained by conventional factors and past data.\")\n",
    "    else:\n",
    "        print(\"Within expectations.\")\n",
    "    output = output.cpu().detach().numpy()\n",
    "    labels = labels.cpu().detach().numpy()\n",
    "    print(output.shape)\n",
    "    print(labels.shape)\n",
    "    year = np.arange(start = 2000, stop = 2018, step = 1, dtype='int')\n",
    "    print(len(year))\n",
    "    plt.plot(year, output, 'r', year, labels, 'b')\n",
    "    plt.ylabel(\"Number of Earthquakes\")\n",
    "    plt.xlabel(\"Year\")\n",
    "    plt.show()"
   ]
  },
  {
   "cell_type": "code",
   "execution_count": null,
   "id": "7401e98c-2409-4bb7-8604-58e2eeb07f82",
   "metadata": {},
   "outputs": [],
   "source": []
  },
  {
   "cell_type": "code",
   "execution_count": 10,
   "id": "03874df7-2609-4fc5-ae14-6d699d071886",
   "metadata": {},
   "outputs": [
    {
     "data": {
      "text/plain": [
       "<All keys matched successfully>"
      ]
     },
     "execution_count": 10,
     "metadata": {},
     "output_type": "execute_result"
    }
   ],
   "source": [
    "model = LSTM(n_layers=4,\n",
    "            hidden_dim=6,\n",
    "            l1=128,\n",
    "            l2=8\n",
    "           )\n",
    "\n",
    "model.load_state_dict(torch.load(\"Bestlstm.pt\"))"
   ]
  },
  {
   "cell_type": "code",
   "execution_count": 41,
   "id": "a8817adf-9247-4a43-9795-3c4255a39889",
   "metadata": {},
   "outputs": [
    {
     "name": "stdout",
     "output_type": "stream",
     "text": [
      "tensor([[-0.0317],\n",
      "        [-0.0316],\n",
      "        [-0.0316],\n",
      "        [-0.0316],\n",
      "        [-0.0315],\n",
      "        [-0.0315],\n",
      "        [-0.0315],\n",
      "        [-0.0315],\n",
      "        [-0.0315],\n",
      "        [-0.0315],\n",
      "        [-0.0315],\n",
      "        [-0.0315],\n",
      "        [-0.0315],\n",
      "        [-0.0315],\n",
      "        [-0.0315],\n",
      "        [-0.0315],\n",
      "        [-0.0315],\n",
      "        [-0.0315],\n",
      "        [-0.0315],\n",
      "        [-0.0315],\n",
      "        [-0.0315],\n",
      "        [-0.0315],\n",
      "        [-0.0315],\n",
      "        [-0.0315],\n",
      "        [-0.0315],\n",
      "        [-0.0315],\n",
      "        [-0.0315],\n",
      "        [-0.0315],\n",
      "        [-0.0315],\n",
      "        [-0.0315],\n",
      "        [-0.0315],\n",
      "        [-0.0315],\n",
      "        [-0.0315],\n",
      "        [-0.0315],\n",
      "        [-0.0315],\n",
      "        [-0.0315],\n",
      "        [-0.0315],\n",
      "        [-0.0315],\n",
      "        [-0.0315],\n",
      "        [-0.0315],\n",
      "        [-0.0315],\n",
      "        [-0.0315],\n",
      "        [-0.0315],\n",
      "        [-0.0315],\n",
      "        [-0.0315],\n",
      "        [-0.0315],\n",
      "        [-0.0315],\n",
      "        [-0.0315],\n",
      "        [-0.0315],\n",
      "        [-0.0315]], grad_fn=<AddmmBackward0>)\n",
      "50\n",
      "tensor(29.3915, grad_fn=<DivBackward0>)\n"
     ]
    },
    {
     "name": "stderr",
     "output_type": "stream",
     "text": [
      "C:\\Users\\theod\\AppData\\Local\\Temp\\ipykernel_26644\\789240093.py:21: UserWarning: Implicit dimension choice for softmax has been deprecated. Change the call to include dim=X as an argument.\n",
      "  pred = self.fc2(nn.functional.softmax(pred))\n",
      "C:\\Users\\theod\\AppData\\Local\\Temp\\ipykernel_26644\\789240093.py:22: UserWarning: Implicit dimension choice for softmax has been deprecated. Change the call to include dim=X as an argument.\n",
      "  pred = self.fc3(nn.functional.softmax(pred))\n"
     ]
    }
   ],
   "source": [
    "for x, y in val_dataloader:\n",
    "    output = model(x)\n",
    "    print(output)\n",
    "    print(len(output))\n",
    "    error = torchmetrics.functional.mean_absolute_error(output, y)\n",
    "    print(error)"
   ]
  },
  {
   "cell_type": "code",
   "execution_count": 11,
   "id": "385d6ac5-1859-47c1-b14c-7808980c519f",
   "metadata": {},
   "outputs": [
    {
     "name": "stdout",
     "output_type": "stream",
     "text": [
      "MAPE:1.0006967782974243\n",
      "Unexpected and cannot be explained by conventional factors and past data.\n",
      "(18, 1)\n",
      "(18, 1)\n",
      "18\n"
     ]
    },
    {
     "name": "stderr",
     "output_type": "stream",
     "text": [
      "C:\\Users\\theod\\AppData\\Local\\Temp\\ipykernel_25592\\789240093.py:21: UserWarning: Implicit dimension choice for softmax has been deprecated. Change the call to include dim=X as an argument.\n",
      "  pred = self.fc2(nn.functional.softmax(pred))\n",
      "C:\\Users\\theod\\AppData\\Local\\Temp\\ipykernel_25592\\789240093.py:22: UserWarning: Implicit dimension choice for softmax has been deprecated. Change the call to include dim=X as an argument.\n",
      "  pred = self.fc3(nn.functional.softmax(pred))\n"
     ]
    },
    {
     "data": {
      "image/png": "[encoded data removed]",
      "text/plain": [
       "<Figure size 640x480 with 1 Axes>"
      ]
     },
     "metadata": {},
     "output_type": "display_data"
    }
   ],
   "source": [
    "test(test_dataloader)"
   ]
  }
 ],
 "metadata": {
  "kernelspec": {
   "display_name": "Python 3 (ipykernel)",
   "language": "python",
   "name": "python3"
  },
  "language_info": {
   "codemirror_mode": {
    "name": "ipython",
    "version": 3
   },
   "file_extension": ".py",
   "mimetype": "text/x-python",
   "name": "python",
   "nbconvert_exporter": "python",
   "pygments_lexer": "ipython3",
   "version": "3.9.13"
  }
 },
 "nbformat": 4,
 "nbformat_minor": 5
}
